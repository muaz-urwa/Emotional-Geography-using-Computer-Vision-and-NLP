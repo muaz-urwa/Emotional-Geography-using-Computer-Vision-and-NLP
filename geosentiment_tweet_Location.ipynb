{
 "cells": [
  {
   "cell_type": "markdown",
   "metadata": {},
   "source": [
    "### Geography of Tweet Sentiment\n",
    "This notebook does the following:\n",
    "- Loads the tweet data from files specified below and filters geotagged tweets\n",
    "- Uses NLTK to get sentiment for each tweet\n",
    "- Converts the tweet sentiments to a geo dataframe\n",
    "- Creates a geo data frame from provided locations and buffers the points\n",
    "- Performs a spatial join between tweets and locations\n",
    "- Averages sentiment by locations\n",
    "- Visualize the results"
   ]
  },
  {
   "cell_type": "code",
   "execution_count": 32,
   "metadata": {},
   "outputs": [],
   "source": [
    "tweet_directory = 'tweets/'\n",
    "Locations = {'timeSquare' : [40.759232, -73.984694], \n",
    "'woldTradecenter' : [40.711702, -74.012722],\n",
    "'brooklynBridge' : [40.705720, -73.996349]}\n",
    "GeoBuffer = 0.008"
   ]
  },
  {
   "cell_type": "code",
   "execution_count": 13,
   "metadata": {},
   "outputs": [],
   "source": [
    "from __future__ import print_function\n",
    "import os\n",
    "import pandas as pd\n",
    "import geopandas as gpd\n",
    "from matplotlib import pyplot as plt\n",
    "import requests \n",
    "import json\n",
    "import numpy as np\n",
    "import io\n",
    "import json\n",
    "import nltk\n",
    "import shapely\n",
    "from geopandas.tools import sjoin\n",
    "from fiona.crs import from_epsg\n",
    "from nltk.sentiment.vader import SentimentIntensityAnalyzer\n",
    "\n",
    "sid = SentimentIntensityAnalyzer()\n",
    "\n",
    "%matplotlib inline"
   ]
  },
  {
   "cell_type": "code",
   "execution_count": 14,
   "metadata": {},
   "outputs": [],
   "source": [
    "def getSentimentTweet(t):\n",
    "    sentences = nltk.tokenize.sent_tokenize(t)\n",
    "    s = []\n",
    "    for sentence in sentences:\n",
    "        s.append(sid.polarity_scores(sentence)[\"compound\"])\n",
    "    return (np.mean(s))"
   ]
  },
  {
   "cell_type": "code",
   "execution_count": 15,
   "metadata": {},
   "outputs": [],
   "source": [
    "def loadGeoTaggedTwitterData():\n",
    "    with open(tweetFiles[0]) as json_file:  \n",
    "        data = json.load(json_file)\n",
    "    for i in range(1, len(tweetFiles)):\n",
    "        with open(tweetFiles[i]) as json_file:  \n",
    "            data += json.load(json_file)\n",
    "    print(\"Tweets: \",len(data))\n",
    "    tweets = [(d['text'],d['geo']['coordinates']) for i,d in enumerate(data) if d['geo'] is not None]\n",
    "    print('Geotagged: ',len(tweets))\n",
    "    return tweets"
   ]
  },
  {
   "cell_type": "code",
   "execution_count": 16,
   "metadata": {},
   "outputs": [],
   "source": [
    "def getSentimentGeoDf(tweets):\n",
    "    sentiment = [getSentimentTweet(t[0]) for t in tweets]\n",
    "    lat = [t[1][0] for t in tweets]\n",
    "    lon = [t[1][1] for t in tweets]\n",
    "    \n",
    "    df = pd.DataFrame({'lat':lat,'lon':lon,'sentiment':sentiment})\n",
    "    df['lonlat'] = list(zip(df[\"lon\"].values,df[\"lat\"].values))\n",
    "    df['geometry'] = df[['lonlat']].applymap(lambda x:shapely.geometry.Point(x))\n",
    "    gdf = gpd.GeoDataFrame(df)\n",
    "    return gdf"
   ]
  },
  {
   "cell_type": "code",
   "execution_count": 17,
   "metadata": {},
   "outputs": [],
   "source": [
    "def getGeoDataFrameLocations(locationDict):\n",
    "    loc = locationDict.keys()\n",
    "    lat = [locationDict[l][0] for l in loc]\n",
    "    lon = [locationDict[l][1] for l in loc]\n",
    "    \n",
    "    df = pd.DataFrame({'lat':lat,'lon':lon,'Landmark':loc})\n",
    "    df['lonlat'] = list(zip(df[\"lon\"].values,df[\"lat\"].values))\n",
    "    df['geometry'] = df[['lonlat']].applymap(lambda x:shapely.geometry.Point(x))\n",
    "    gdf = gpd.GeoDataFrame(df)\n",
    "    gdf['geometry'] = gdf.geometry.apply(lambda x: x.buffer(GeoBuffer))\n",
    "    \n",
    "    return gdf"
   ]
  },
  {
   "cell_type": "code",
   "execution_count": 26,
   "metadata": {},
   "outputs": [],
   "source": [
    "landmarkGdf = getGeoDataFrameLocations(Locations)"
   ]
  },
  {
   "cell_type": "code",
   "execution_count": 19,
   "metadata": {},
   "outputs": [
    {
     "name": "stdout",
     "output_type": "stream",
     "text": [
      "Tweets:  64776\n",
      "Geotagged:  9942\n"
     ]
    }
   ],
   "source": [
    "tweetFiles = os.listdir(tweet_directory)\n",
    "tweetFiles = [tweet_directory+t for t in tweetFiles]\n",
    "tweets = loadGeoTaggedTwitterData()"
   ]
  },
  {
   "cell_type": "code",
   "execution_count": 27,
   "metadata": {},
   "outputs": [
    {
     "name": "stdout",
     "output_type": "stream",
     "text": [
      "(9942, 5)\n"
     ]
    },
    {
     "data": {
      "text/html": [
       "<div>\n",
       "<style scoped>\n",
       "    .dataframe tbody tr th:only-of-type {\n",
       "        vertical-align: middle;\n",
       "    }\n",
       "\n",
       "    .dataframe tbody tr th {\n",
       "        vertical-align: top;\n",
       "    }\n",
       "\n",
       "    .dataframe thead th {\n",
       "        text-align: right;\n",
       "    }\n",
       "</style>\n",
       "<table border=\"1\" class=\"dataframe\">\n",
       "  <thead>\n",
       "    <tr style=\"text-align: right;\">\n",
       "      <th></th>\n",
       "      <th>lat</th>\n",
       "      <th>lon</th>\n",
       "      <th>sentiment</th>\n",
       "      <th>lonlat</th>\n",
       "      <th>geometry</th>\n",
       "    </tr>\n",
       "  </thead>\n",
       "  <tbody>\n",
       "    <tr>\n",
       "      <th>0</th>\n",
       "      <td>40.898333</td>\n",
       "      <td>-74.029827</td>\n",
       "      <td>0.0</td>\n",
       "      <td>(-74.02982712, 40.89833309)</td>\n",
       "      <td>POINT (-74.02982711999999 40.89833309)</td>\n",
       "    </tr>\n",
       "    <tr>\n",
       "      <th>1</th>\n",
       "      <td>40.847698</td>\n",
       "      <td>-73.169601</td>\n",
       "      <td>0.0</td>\n",
       "      <td>(-73.169601, 40.847698)</td>\n",
       "      <td>POINT (-73.169601 40.847698)</td>\n",
       "    </tr>\n",
       "    <tr>\n",
       "      <th>2</th>\n",
       "      <td>40.847698</td>\n",
       "      <td>-73.169601</td>\n",
       "      <td>0.0</td>\n",
       "      <td>(-73.169601, 40.847698)</td>\n",
       "      <td>POINT (-73.169601 40.847698)</td>\n",
       "    </tr>\n",
       "  </tbody>\n",
       "</table>\n",
       "</div>"
      ],
      "text/plain": [
       "         lat        lon  sentiment                       lonlat  \\\n",
       "0  40.898333 -74.029827        0.0  (-74.02982712, 40.89833309)   \n",
       "1  40.847698 -73.169601        0.0      (-73.169601, 40.847698)   \n",
       "2  40.847698 -73.169601        0.0      (-73.169601, 40.847698)   \n",
       "\n",
       "                                 geometry  \n",
       "0  POINT (-74.02982711999999 40.89833309)  \n",
       "1            POINT (-73.169601 40.847698)  \n",
       "2            POINT (-73.169601 40.847698)  "
      ]
     },
     "execution_count": 27,
     "metadata": {},
     "output_type": "execute_result"
    }
   ],
   "source": [
    "tweetGdf = getSentimentGeoDf(tweets)\n",
    "print(tweetGdf.shape)\n",
    "tweetGdf.head(3)"
   ]
  },
  {
   "cell_type": "code",
   "execution_count": 28,
   "metadata": {},
   "outputs": [
    {
     "data": {
      "text/plain": [
       "(9942, 5)"
      ]
     },
     "execution_count": 28,
     "metadata": {},
     "output_type": "execute_result"
    }
   ],
   "source": [
    "tweetGdf.dropna(subset=[\"lat\", \"lon\"]).shape"
   ]
  },
  {
   "cell_type": "code",
   "execution_count": 29,
   "metadata": {},
   "outputs": [
    {
     "data": {
      "text/plain": [
       "(2008, 10)"
      ]
     },
     "execution_count": 29,
     "metadata": {},
     "output_type": "execute_result"
    }
   ],
   "source": [
    "resultGdf = gpd.sjoin(landmarkGdf,tweetGdf,how='inner')\n",
    "resultGdf.shape"
   ]
  },
  {
   "cell_type": "code",
   "execution_count": 30,
   "metadata": {},
   "outputs": [
    {
     "name": "stdout",
     "output_type": "stream",
     "text": [
      "(3, 1)\n"
     ]
    }
   ],
   "source": [
    "landmarkSent = resultGdf[['Landmark','sentiment']].groupby('Landmark').mean()\n",
    "print(landmarkSent.shape)\n",
    "landmarkCount = resultGdf[['Landmark','sentiment']].groupby('Landmark').count()\n",
    "landmarkCount.columns = ['count']\n",
    "landmarkSent = landmarkSent.merge(landmarkCount, on='Landmark', how='left')"
   ]
  },
  {
   "cell_type": "code",
   "execution_count": 31,
   "metadata": {},
   "outputs": [
    {
     "data": {
      "text/html": [
       "<div>\n",
       "<style scoped>\n",
       "    .dataframe tbody tr th:only-of-type {\n",
       "        vertical-align: middle;\n",
       "    }\n",
       "\n",
       "    .dataframe tbody tr th {\n",
       "        vertical-align: top;\n",
       "    }\n",
       "\n",
       "    .dataframe thead th {\n",
       "        text-align: right;\n",
       "    }\n",
       "</style>\n",
       "<table border=\"1\" class=\"dataframe\">\n",
       "  <thead>\n",
       "    <tr style=\"text-align: right;\">\n",
       "      <th></th>\n",
       "      <th>sentiment</th>\n",
       "      <th>count</th>\n",
       "    </tr>\n",
       "    <tr>\n",
       "      <th>Landmark</th>\n",
       "      <th></th>\n",
       "      <th></th>\n",
       "    </tr>\n",
       "  </thead>\n",
       "  <tbody>\n",
       "    <tr>\n",
       "      <th>brooklynBridge</th>\n",
       "      <td>0.111466</td>\n",
       "      <td>70</td>\n",
       "    </tr>\n",
       "    <tr>\n",
       "      <th>timeSquare</th>\n",
       "      <td>0.112754</td>\n",
       "      <td>334</td>\n",
       "    </tr>\n",
       "    <tr>\n",
       "      <th>woldTradecenter</th>\n",
       "      <td>0.120509</td>\n",
       "      <td>1604</td>\n",
       "    </tr>\n",
       "  </tbody>\n",
       "</table>\n",
       "</div>"
      ],
      "text/plain": [
       "                 sentiment  count\n",
       "Landmark                         \n",
       "brooklynBridge    0.111466     70\n",
       "timeSquare        0.112754    334\n",
       "woldTradecenter   0.120509   1604"
      ]
     },
     "execution_count": 31,
     "metadata": {},
     "output_type": "execute_result"
    }
   ],
   "source": [
    "landmarkSent"
   ]
  },
  {
   "cell_type": "code",
   "execution_count": 33,
   "metadata": {},
   "outputs": [],
   "source": [
    "landmarkSent = landmarkSent.reset_index()\n",
    "landmarkSent.to_csv('landmarkSent.csv',index=False)"
   ]
  },
  {
   "cell_type": "code",
   "execution_count": null,
   "metadata": {},
   "outputs": [],
   "source": []
  }
 ],
 "metadata": {
  "kernelspec": {
   "display_name": "Python 2",
   "language": "python",
   "name": "python2"
  },
  "language_info": {
   "codemirror_mode": {
    "name": "ipython",
    "version": 2
   },
   "file_extension": ".py",
   "mimetype": "text/x-python",
   "name": "python",
   "nbconvert_exporter": "python",
   "pygments_lexer": "ipython2",
   "version": "2.7.15"
  }
 },
 "nbformat": 4,
 "nbformat_minor": 2
}
